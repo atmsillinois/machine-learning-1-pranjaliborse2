{
 "cells": [
  {
   "cell_type": "code",
   "execution_count": 3,
   "metadata": {},
   "outputs": [
    {
     "name": "stdout",
     "output_type": "stream",
     "text": [
      "Hello world\n",
      "I love karan\n"
     ]
    }
   ],
   "source": [
    "print('Hello world')\n",
    "print('I love karan')"
   ]
  }
 ],
 "metadata": {
  "kernelspec": {
   "display_name": "Python 3",
   "language": "python",
   "name": "python3"
  },
  "language_info": {
   "codemirror_mode": {
    "name": "ipython",
    "version": 3
   },
   "file_extension": ".py",
   "mimetype": "text/x-python",
   "name": "python",
   "nbconvert_exporter": "python",
   "pygments_lexer": "ipython3",
   "version": "3.10.10"
  },
  "orig_nbformat": 4,
  "vscode": {
   "interpreter": {
    "hash": "1e7743755e6010fae67b4cecdd912e3a745aa1d66d3b936177b47a850b2e9228"
   }
  }
 },
 "nbformat": 4,
 "nbformat_minor": 2
}
