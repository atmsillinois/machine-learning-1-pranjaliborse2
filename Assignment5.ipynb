{
 "cells": [
  {
   "cell_type": "code",
   "execution_count": 58,
   "metadata": {},
   "outputs": [],
   "source": [
    "import pandas as pd\n",
    "from sklearn.linear_model import LinearRegression\n",
    "import numpy as np\n",
    "import matplotlib.pyplot as plt\n",
    "import seaborn as sns\n",
    "from sklearn.model_selection import train_test_split\n",
    "import math\n",
    "import sklearn.metrics \n"
   ]
  },
  {
   "cell_type": "code",
   "execution_count": 8,
   "metadata": {},
   "outputs": [],
   "source": [
    "radar = pd.read_csv(r\"D:\\UIUC Academics\\SEM3 UIUC\\ATMS 523\\Assignment5\\machine-learning-1-pranjaliborse2\\homework\\radar_parameters.csv\")"
   ]
  },
  {
   "cell_type": "code",
   "execution_count": 13,
   "metadata": {},
   "outputs": [
    {
     "data": {
      "text/html": [
       "<div>\n",
       "<style scoped>\n",
       "    .dataframe tbody tr th:only-of-type {\n",
       "        vertical-align: middle;\n",
       "    }\n",
       "\n",
       "    .dataframe tbody tr th {\n",
       "        vertical-align: top;\n",
       "    }\n",
       "\n",
       "    .dataframe thead th {\n",
       "        text-align: right;\n",
       "    }\n",
       "</style>\n",
       "<table border=\"1\" class=\"dataframe\">\n",
       "  <thead>\n",
       "    <tr style=\"text-align: right;\">\n",
       "      <th></th>\n",
       "      <th>Unnamed: 0</th>\n",
       "      <th>Zh (dBZ)</th>\n",
       "      <th>Zdr (dB)</th>\n",
       "      <th>Ldr (dB)</th>\n",
       "      <th>Kdp (deg km-1)</th>\n",
       "      <th>Ah (dBZ/km)</th>\n",
       "      <th>Adr (dB/km)</th>\n",
       "      <th>R (mm/hr)</th>\n",
       "    </tr>\n",
       "  </thead>\n",
       "  <tbody>\n",
       "    <tr>\n",
       "      <th>0</th>\n",
       "      <td>0</td>\n",
       "      <td>23.144878</td>\n",
       "      <td>0.418637</td>\n",
       "      <td>-41.757733</td>\n",
       "      <td>0.005395</td>\n",
       "      <td>0.000290</td>\n",
       "      <td>0.000012</td>\n",
       "      <td>2.393520</td>\n",
       "    </tr>\n",
       "    <tr>\n",
       "      <th>1</th>\n",
       "      <td>1</td>\n",
       "      <td>22.737156</td>\n",
       "      <td>0.322850</td>\n",
       "      <td>-43.772069</td>\n",
       "      <td>0.005194</td>\n",
       "      <td>0.000360</td>\n",
       "      <td>0.000012</td>\n",
       "      <td>3.502699</td>\n",
       "    </tr>\n",
       "    <tr>\n",
       "      <th>2</th>\n",
       "      <td>2</td>\n",
       "      <td>26.869826</td>\n",
       "      <td>0.330948</td>\n",
       "      <td>-43.577399</td>\n",
       "      <td>0.013385</td>\n",
       "      <td>0.000903</td>\n",
       "      <td>0.000030</td>\n",
       "      <td>8.627561</td>\n",
       "    </tr>\n",
       "    <tr>\n",
       "      <th>3</th>\n",
       "      <td>3</td>\n",
       "      <td>28.540561</td>\n",
       "      <td>0.399480</td>\n",
       "      <td>-42.139731</td>\n",
       "      <td>0.018872</td>\n",
       "      <td>0.001036</td>\n",
       "      <td>0.000043</td>\n",
       "      <td>8.424447</td>\n",
       "    </tr>\n",
       "    <tr>\n",
       "      <th>4</th>\n",
       "      <td>4</td>\n",
       "      <td>30.500127</td>\n",
       "      <td>0.543758</td>\n",
       "      <td>-39.763087</td>\n",
       "      <td>0.027438</td>\n",
       "      <td>0.001157</td>\n",
       "      <td>0.000064</td>\n",
       "      <td>8.189291</td>\n",
       "    </tr>\n",
       "    <tr>\n",
       "      <th>...</th>\n",
       "      <td>...</td>\n",
       "      <td>...</td>\n",
       "      <td>...</td>\n",
       "      <td>...</td>\n",
       "      <td>...</td>\n",
       "      <td>...</td>\n",
       "      <td>...</td>\n",
       "      <td>...</td>\n",
       "    </tr>\n",
       "    <tr>\n",
       "      <th>18964</th>\n",
       "      <td>18964</td>\n",
       "      <td>31.515997</td>\n",
       "      <td>0.579955</td>\n",
       "      <td>-39.244229</td>\n",
       "      <td>0.034048</td>\n",
       "      <td>0.001417</td>\n",
       "      <td>0.000080</td>\n",
       "      <td>10.648020</td>\n",
       "    </tr>\n",
       "    <tr>\n",
       "      <th>18965</th>\n",
       "      <td>18965</td>\n",
       "      <td>29.993334</td>\n",
       "      <td>0.567935</td>\n",
       "      <td>-39.399188</td>\n",
       "      <td>0.024134</td>\n",
       "      <td>0.001032</td>\n",
       "      <td>0.000057</td>\n",
       "      <td>7.981875</td>\n",
       "    </tr>\n",
       "    <tr>\n",
       "      <th>18966</th>\n",
       "      <td>18966</td>\n",
       "      <td>31.685913</td>\n",
       "      <td>0.655681</td>\n",
       "      <td>-38.375696</td>\n",
       "      <td>0.033971</td>\n",
       "      <td>0.001165</td>\n",
       "      <td>0.000081</td>\n",
       "      <td>6.822691</td>\n",
       "    </tr>\n",
       "    <tr>\n",
       "      <th>18967</th>\n",
       "      <td>18967</td>\n",
       "      <td>32.980096</td>\n",
       "      <td>0.768586</td>\n",
       "      <td>-37.166218</td>\n",
       "      <td>0.043117</td>\n",
       "      <td>0.001285</td>\n",
       "      <td>0.000105</td>\n",
       "      <td>6.801169</td>\n",
       "    </tr>\n",
       "    <tr>\n",
       "      <th>18968</th>\n",
       "      <td>18968</td>\n",
       "      <td>28.731399</td>\n",
       "      <td>0.804155</td>\n",
       "      <td>-36.795913</td>\n",
       "      <td>0.015908</td>\n",
       "      <td>0.000469</td>\n",
       "      <td>0.000039</td>\n",
       "      <td>2.582440</td>\n",
       "    </tr>\n",
       "  </tbody>\n",
       "</table>\n",
       "<p>18969 rows × 8 columns</p>\n",
       "</div>"
      ],
      "text/plain": [
       "       Unnamed: 0   Zh (dBZ)  Zdr (dB)   Ldr (dB)  Kdp (deg km-1)  \\\n",
       "0               0  23.144878  0.418637 -41.757733        0.005395   \n",
       "1               1  22.737156  0.322850 -43.772069        0.005194   \n",
       "2               2  26.869826  0.330948 -43.577399        0.013385   \n",
       "3               3  28.540561  0.399480 -42.139731        0.018872   \n",
       "4               4  30.500127  0.543758 -39.763087        0.027438   \n",
       "...           ...        ...       ...        ...             ...   \n",
       "18964       18964  31.515997  0.579955 -39.244229        0.034048   \n",
       "18965       18965  29.993334  0.567935 -39.399188        0.024134   \n",
       "18966       18966  31.685913  0.655681 -38.375696        0.033971   \n",
       "18967       18967  32.980096  0.768586 -37.166218        0.043117   \n",
       "18968       18968  28.731399  0.804155 -36.795913        0.015908   \n",
       "\n",
       "       Ah (dBZ/km)  Adr (dB/km)  R (mm/hr)  \n",
       "0         0.000290     0.000012   2.393520  \n",
       "1         0.000360     0.000012   3.502699  \n",
       "2         0.000903     0.000030   8.627561  \n",
       "3         0.001036     0.000043   8.424447  \n",
       "4         0.001157     0.000064   8.189291  \n",
       "...            ...          ...        ...  \n",
       "18964     0.001417     0.000080  10.648020  \n",
       "18965     0.001032     0.000057   7.981875  \n",
       "18966     0.001165     0.000081   6.822691  \n",
       "18967     0.001285     0.000105   6.801169  \n",
       "18968     0.000469     0.000039   2.582440  \n",
       "\n",
       "[18969 rows x 8 columns]"
      ]
     },
     "execution_count": 13,
     "metadata": {},
     "output_type": "execute_result"
    }
   ],
   "source": [
    "radar"
   ]
  },
  {
   "cell_type": "code",
   "execution_count": 9,
   "metadata": {},
   "outputs": [],
   "source": [
    "X_radar = radar.drop(['R (mm/hr)','Unnamed: 0'],axis=1)\n",
    "y_radar = radar['R (mm/hr)']"
   ]
  },
  {
   "cell_type": "code",
   "execution_count": 31,
   "metadata": {},
   "outputs": [],
   "source": [
    "Xtrain, Xtest, ytrain, ytest = train_test_split(X_radar, y_radar,\n",
    "                                                random_state=1)"
   ]
  },
  {
   "cell_type": "code",
   "execution_count": 62,
   "metadata": {},
   "outputs": [],
   "source": [
    "model = LinearRegression()\n",
    "model.fit(Xtrain, ytrain)\n",
    "ymodel_test = model.predict(Xtest)"
   ]
  },
  {
   "cell_type": "code",
   "execution_count": 60,
   "metadata": {},
   "outputs": [
    {
     "name": "stdout",
     "output_type": "stream",
     "text": [
      "R^2 train- 0.9999983577105388\n",
      "RMSE train- 0.01529144587750517\n"
     ]
    }
   ],
   "source": [
    "from scipy.stats import pearsonr\n",
    "ymodel_train = model.predict(Xtrain)\n",
    "print('R^2 train-',pearsonr(ymodel_train, ytrain)[0])\n",
    "rmse_train = math.sqrt(sklearn.metrics.mean_squared_error(ymodel_train, ytrain))\n",
    "print('RMSE train-',rmse_train)"
   ]
  },
  {
   "cell_type": "code",
   "execution_count": 63,
   "metadata": {},
   "outputs": [
    {
     "name": "stdout",
     "output_type": "stream",
     "text": [
      "R^2 test- 0.9952895658055059\n",
      "RMSE test- 0.8812132500978461\n"
     ]
    },
    {
     "data": {
      "image/png": "[encoded data removed]",
      "text/plain": [
       "<Figure size 640x480 with 1 Axes>"
      ]
     },
     "metadata": {},
     "output_type": "display_data"
    }
   ],
   "source": [
    "\n",
    "test,predict = zip(*sorted(zip(ytest,ymodel_test)))\n",
    "plt.plot(test,predict)\n",
    "print('R^2 test-',pearsonr(ymodel_test,ytest)[0])\n",
    "rmse_test = math.sqrt(sklearn.metrics.mean_squared_error(ymodel_test,ytest))\n",
    "print('RMSE test-',rmse_test)"
   ]
  },
  {
   "cell_type": "code",
   "execution_count": 53,
   "metadata": {},
   "outputs": [],
   "source": [
    "R_formula = (10**(radar['Zh (dBZ)']/10)/200)**(1/1.6)"
   ]
  },
  {
   "cell_type": "code",
   "execution_count": 64,
   "metadata": {},
   "outputs": [
    {
     "name": "stdout",
     "output_type": "stream",
     "text": [
      "R^2 formula- 0.6797968431930554\n",
      "RMSE formula- 7.157590840042378\n"
     ]
    }
   ],
   "source": [
    " \n",
    "print('R^2 formula-',pearsonr(R_formula,radar['R (mm/hr)'])[0])\n",
    "rmse_formula = math.sqrt(sklearn.metrics.mean_squared_error(R_formula,radar['R (mm/hr)']))\n",
    "print('RMSE formula-',rmse_formula)\n"
   ]
  },
  {
   "cell_type": "markdown",
   "metadata": {},
   "source": [
    "### Comparison of baseline prediction with linear regression model- \n",
    "From the values printed above, it is clear that model built using training dataset outperforms the baseline prediction of rain rate using the formula in terms of both R^2 and RMSE. "
   ]
  },
  {
   "cell_type": "code",
   "execution_count": 23,
   "metadata": {},
   "outputs": [],
   "source": [
    "from sklearn.model_selection import GridSearchCV\n",
    "import numpy as np\n",
    "from sklearn.preprocessing import PolynomialFeatures\n",
    "from sklearn.linear_model import LinearRegression\n",
    "from sklearn.pipeline import make_pipeline\n",
    "\n",
    "def PolynomialRegression(degree=2, **kwargs):\n",
    "    return make_pipeline(PolynomialFeatures(degree),\n",
    "                         LinearRegression(**kwargs))\n",
    "param_grid = {'polynomialfeatures__degree': np.arange(7)}\n",
    "\n",
    "grid = GridSearchCV(PolynomialRegression(), param_grid, cv=7)"
   ]
  },
  {
   "cell_type": "code",
   "execution_count": 24,
   "metadata": {},
   "outputs": [
    {
     "data": {
      "text/html": [
       "<style>#sk-container-id-2 {color: black;background-color: white;}#sk-container-id-2 pre{padding: 0;}#sk-container-id-2 div.sk-toggleable {background-color: white;}#sk-container-id-2 label.sk-toggleable__label {cursor: pointer;display: block;width: 100%;margin-bottom: 0;padding: 0.3em;box-sizing: border-box;text-align: center;}#sk-container-id-2 label.sk-toggleable__label-arrow:before {content: \"▸\";float: left;margin-right: 0.25em;color: #696969;}#sk-container-id-2 label.sk-toggleable__label-arrow:hover:before {color: black;}#sk-container-id-2 div.sk-estimator:hover label.sk-toggleable__label-arrow:before {color: black;}#sk-container-id-2 div.sk-toggleable__content {max-height: 0;max-width: 0;overflow: hidden;text-align: left;background-color: #f0f8ff;}#sk-container-id-2 div.sk-toggleable__content pre {margin: 0.2em;color: black;border-radius: 0.25em;background-color: #f0f8ff;}#sk-container-id-2 input.sk-toggleable__control:checked~div.sk-toggleable__content {max-height: 200px;max-width: 100%;overflow: auto;}#sk-container-id-2 input.sk-toggleable__control:checked~label.sk-toggleable__label-arrow:before {content: \"▾\";}#sk-container-id-2 div.sk-estimator input.sk-toggleable__control:checked~label.sk-toggleable__label {background-color: #d4ebff;}#sk-container-id-2 div.sk-label input.sk-toggleable__control:checked~label.sk-toggleable__label {background-color: #d4ebff;}#sk-container-id-2 input.sk-hidden--visually {border: 0;clip: rect(1px 1px 1px 1px);clip: rect(1px, 1px, 1px, 1px);height: 1px;margin: -1px;overflow: hidden;padding: 0;position: absolute;width: 1px;}#sk-container-id-2 div.sk-estimator {font-family: monospace;background-color: #f0f8ff;border: 1px dotted black;border-radius: 0.25em;box-sizing: border-box;margin-bottom: 0.5em;}#sk-container-id-2 div.sk-estimator:hover {background-color: #d4ebff;}#sk-container-id-2 div.sk-parallel-item::after {content: \"\";width: 100%;border-bottom: 1px solid gray;flex-grow: 1;}#sk-container-id-2 div.sk-label:hover label.sk-toggleable__label {background-color: #d4ebff;}#sk-container-id-2 div.sk-serial::before {content: \"\";position: absolute;border-left: 1px solid gray;box-sizing: border-box;top: 0;bottom: 0;left: 50%;z-index: 0;}#sk-container-id-2 div.sk-serial {display: flex;flex-direction: column;align-items: center;background-color: white;padding-right: 0.2em;padding-left: 0.2em;position: relative;}#sk-container-id-2 div.sk-item {position: relative;z-index: 1;}#sk-container-id-2 div.sk-parallel {display: flex;align-items: stretch;justify-content: center;background-color: white;position: relative;}#sk-container-id-2 div.sk-item::before, #sk-container-id-2 div.sk-parallel-item::before {content: \"\";position: absolute;border-left: 1px solid gray;box-sizing: border-box;top: 0;bottom: 0;left: 50%;z-index: -1;}#sk-container-id-2 div.sk-parallel-item {display: flex;flex-direction: column;z-index: 1;position: relative;background-color: white;}#sk-container-id-2 div.sk-parallel-item:first-child::after {align-self: flex-end;width: 50%;}#sk-container-id-2 div.sk-parallel-item:last-child::after {align-self: flex-start;width: 50%;}#sk-container-id-2 div.sk-parallel-item:only-child::after {width: 0;}#sk-container-id-2 div.sk-dashed-wrapped {border: 1px dashed gray;margin: 0 0.4em 0.5em 0.4em;box-sizing: border-box;padding-bottom: 0.4em;background-color: white;}#sk-container-id-2 div.sk-label label {font-family: monospace;font-weight: bold;display: inline-block;line-height: 1.2em;}#sk-container-id-2 div.sk-label-container {text-align: center;}#sk-container-id-2 div.sk-container {/* jupyter's `normalize.less` sets `[hidden] { display: none; }` but bootstrap.min.css set `[hidden] { display: none !important; }` so we also need the `!important` here to be able to override the default hidden behavior on the sphinx rendered scikit-learn.org. See: https://github.com/scikit-learn/scikit-learn/issues/21755 */display: inline-block !important;position: relative;}#sk-container-id-2 div.sk-text-repr-fallback {display: none;}</style><div id=\"sk-container-id-2\" class=\"sk-top-container\"><div class=\"sk-text-repr-fallback\"><pre>GridSearchCV(cv=7,\n",
       "             estimator=Pipeline(steps=[(&#x27;polynomialfeatures&#x27;,\n",
       "                                        PolynomialFeatures()),\n",
       "                                       (&#x27;linearregression&#x27;,\n",
       "                                        LinearRegression())]),\n",
       "             param_grid={&#x27;polynomialfeatures__degree&#x27;: array([0, 1, 2, 3, 4, 5, 6])})</pre><b>In a Jupyter environment, please rerun this cell to show the HTML representation or trust the notebook. <br />On GitHub, the HTML representation is unable to render, please try loading this page with nbviewer.org.</b></div><div class=\"sk-container\" hidden><div class=\"sk-item sk-dashed-wrapped\"><div class=\"sk-label-container\"><div class=\"sk-label sk-toggleable\"><input class=\"sk-toggleable__control sk-hidden--visually\" id=\"sk-estimator-id-5\" type=\"checkbox\" ><label for=\"sk-estimator-id-5\" class=\"sk-toggleable__label sk-toggleable__label-arrow\">GridSearchCV</label><div class=\"sk-toggleable__content\"><pre>GridSearchCV(cv=7,\n",
       "             estimator=Pipeline(steps=[(&#x27;polynomialfeatures&#x27;,\n",
       "                                        PolynomialFeatures()),\n",
       "                                       (&#x27;linearregression&#x27;,\n",
       "                                        LinearRegression())]),\n",
       "             param_grid={&#x27;polynomialfeatures__degree&#x27;: array([0, 1, 2, 3, 4, 5, 6])})</pre></div></div></div><div class=\"sk-parallel\"><div class=\"sk-parallel-item\"><div class=\"sk-item\"><div class=\"sk-label-container\"><div class=\"sk-label sk-toggleable\"><input class=\"sk-toggleable__control sk-hidden--visually\" id=\"sk-estimator-id-6\" type=\"checkbox\" ><label for=\"sk-estimator-id-6\" class=\"sk-toggleable__label sk-toggleable__label-arrow\">estimator: Pipeline</label><div class=\"sk-toggleable__content\"><pre>Pipeline(steps=[(&#x27;polynomialfeatures&#x27;, PolynomialFeatures()),\n",
       "                (&#x27;linearregression&#x27;, LinearRegression())])</pre></div></div></div><div class=\"sk-serial\"><div class=\"sk-item\"><div class=\"sk-serial\"><div class=\"sk-item\"><div class=\"sk-estimator sk-toggleable\"><input class=\"sk-toggleable__control sk-hidden--visually\" id=\"sk-estimator-id-7\" type=\"checkbox\" ><label for=\"sk-estimator-id-7\" class=\"sk-toggleable__label sk-toggleable__label-arrow\">PolynomialFeatures</label><div class=\"sk-toggleable__content\"><pre>PolynomialFeatures()</pre></div></div></div><div class=\"sk-item\"><div class=\"sk-estimator sk-toggleable\"><input class=\"sk-toggleable__control sk-hidden--visually\" id=\"sk-estimator-id-8\" type=\"checkbox\" ><label for=\"sk-estimator-id-8\" class=\"sk-toggleable__label sk-toggleable__label-arrow\">LinearRegression</label><div class=\"sk-toggleable__content\"><pre>LinearRegression()</pre></div></div></div></div></div></div></div></div></div></div></div></div>"
      ],
      "text/plain": [
       "GridSearchCV(cv=7,\n",
       "             estimator=Pipeline(steps=[('polynomialfeatures',\n",
       "                                        PolynomialFeatures()),\n",
       "                                       ('linearregression',\n",
       "                                        LinearRegression())]),\n",
       "             param_grid={'polynomialfeatures__degree': array([0, 1, 2, 3, 4, 5, 6])})"
      ]
     },
     "execution_count": 24,
     "metadata": {},
     "output_type": "execute_result"
    }
   ],
   "source": [
    "grid.fit(Xtrain, ytrain)"
   ]
  },
  {
   "cell_type": "code",
   "execution_count": 20,
   "metadata": {},
   "outputs": [
    {
     "data": {
      "text/plain": [
       "{'polynomialfeatures__degree': 3}"
      ]
     },
     "execution_count": 20,
     "metadata": {},
     "output_type": "execute_result"
    }
   ],
   "source": [
    "grid.best_params_"
   ]
  },
  {
   "cell_type": "code",
   "execution_count": 41,
   "metadata": {},
   "outputs": [
    {
     "data": {
      "text/plain": [
       "(14226,)"
      ]
     },
     "execution_count": 41,
     "metadata": {},
     "output_type": "execute_result"
    }
   ],
   "source": [
    "ytrain.shape"
   ]
  },
  {
   "cell_type": "code",
   "execution_count": 42,
   "metadata": {},
   "outputs": [],
   "source": [
    "model = grid.best_estimator_\n",
    "ypoly = model.fit(Xtrain, ytrain).predict(Xtest)\n"
   ]
  },
  {
   "cell_type": "code",
   "execution_count": 67,
   "metadata": {},
   "outputs": [
    {
     "name": "stdout",
     "output_type": "stream",
     "text": [
      "R^2 polyreg 0.9999960125370404\n",
      "RMSE poly- 0.02528689905105972\n"
     ]
    },
    {
     "data": {
      "image/png": "[encoded data removed]",
      "text/plain": [
       "<Figure size 640x480 with 1 Axes>"
      ]
     },
     "metadata": {},
     "output_type": "display_data"
    }
   ],
   "source": [
    "test,poly = zip(*sorted(zip(ytest,ypoly)))\n",
    "plt.plot(test,poly)\n",
    "plt.xlabel('testing dataset')\n",
    "plt.ylabel('polynomially regressed dataset')\n",
    "print('R^2 polyreg',pearsonr(ypoly,ytest)[0])\n",
    "rmse_poly = math.sqrt(sklearn.metrics.mean_squared_error(ypoly,ytest))\n",
    "print('RMSE poly-',rmse_poly)"
   ]
  },
  {
   "cell_type": "markdown",
   "metadata": {},
   "source": [
    "### Comparison of polynomial and linear regression model-\n",
    "From the values and plot, it is clear that polynomial model outperforms linear regression model as its R^2 (0.9999960125370404) is greater than R^2 (0.9952895658055059) of linear regression and RMSE ~ 0.025 is smaller than RMSE ~ 0.88 of linear regression"
   ]
  },
  {
   "cell_type": "code",
   "execution_count": 50,
   "metadata": {},
   "outputs": [
    {
     "name": "stdout",
     "output_type": "stream",
     "text": [
      "Fitting 3 folds for each of 100 candidates, totalling 300 fits\n"
     ]
    }
   ],
   "source": [
    "from sklearn.ensemble import RandomForestRegressor\n",
    "from sklearn.model_selection import RandomizedSearchCV\n",
    "\n",
    "randomgrid = {'bootstrap': [True, False], 'max_depth': [10, 20, 30, 40, 50, 60, 70, 80, 90, 100, None],  \n",
    "                'max_features': ['auto', 'sqrt'], 'min_samples_leaf': [1, 2, 4],  \n",
    "                'min_samples_split': [2, 5, 10], 'n_estimators': [200, 400, 600, 800, 1000, 1200, 1400, 1600, 1800, 2000]}\n",
    "\n",
    "forest = RandomForestRegressor()\n",
    "forest_random = RandomizedSearchCV(estimator = forest, param_distributions = randomgrid, n_iter = 100, cv = 3, \n",
    "                                    verbose=2, random_state=42, n_jobs = -1)\n",
    "forest_random.fit(Xtrain, ytrain)\n",
    "\n",
    "yfit = forest_random.predict(Xtest)"
   ]
  },
  {
   "cell_type": "code",
   "execution_count": 70,
   "metadata": {},
   "outputs": [
    {
     "name": "stdout",
     "output_type": "stream",
     "text": [
      "R^2 RandomForest- 0.9930881789026568\n",
      "RMSE RandomForest- 1.0586615570017117\n"
     ]
    }
   ],
   "source": [
    "print('R^2 RandomForest-',pearsonr(yfit,ytest)[0])\n",
    "rmse_rf = math.sqrt(sklearn.metrics.mean_squared_error(yfit,ytest))\n",
    "print('RMSE RandomForest-',rmse_rf)"
   ]
  },
  {
   "cell_type": "markdown",
   "metadata": {},
   "source": [
    "### Comparison of Random Forest model with all others-\n",
    "We can only beat the baseline prediction using random forest model in terms of both R^2 and RMSE but since the value of R^2 is slightly smaller than both linear and polynomial regression models and RMSE is larger than both the models, we cannot beat these two models with the best optimized Random Forest Regressor. But even if it doesn't outperform these two models, it performs well as evident from R^2 value."
   ]
  }
 ],
 "metadata": {
  "kernelspec": {
   "display_name": "Python 3.9.12 ('env')",
   "language": "python",
   "name": "python3"
  },
  "language_info": {
   "codemirror_mode": {
    "name": "ipython",
    "version": 3
   },
   "file_extension": ".py",
   "mimetype": "text/x-python",
   "name": "python",
   "nbconvert_exporter": "python",
   "pygments_lexer": "ipython3",
   "version": "3.9.12"
  },
  "orig_nbformat": 4,
  "vscode": {
   "interpreter": {
    "hash": "b58afed2828c279b706289b30edf45f8683051fa51aeecb7b91ca6cc91b52286"
   }
  }
 },
 "nbformat": 4,
 "nbformat_minor": 2
}
